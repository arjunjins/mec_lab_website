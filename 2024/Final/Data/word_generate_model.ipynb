{
 "cells": [
  {
   "cell_type": "code",
   "execution_count": 1,
   "metadata": {},
   "outputs": [],
   "source": [
    "import pandas as pd\n",
    "import numpy as np\n",
    "import tensorflow as tf\n",
    "from numpy.random import seed\n",
    "seed(1)\n",
    "from keras.preprocessing.sequence import pad_sequences\n",
    "from keras.layers import Embedding, LSTM, Dense, Dropout\n",
    "from keras.preprocessing.text import Tokenizer\n",
    "from keras.callbacks import EarlyStopping\n",
    "from keras.models import Sequential\n",
    "import keras.utils as ku"
   ]
  },
  {
   "cell_type": "code",
   "execution_count": 2,
   "metadata": {},
   "outputs": [
    {
     "data": {
      "text/plain": [
       "234450"
      ]
     },
     "execution_count": 2,
     "metadata": {},
     "output_type": "execute_result"
    }
   ],
   "source": [
    "from english_words import get_english_words_set\n",
    "web2lowerset = get_english_words_set(['web2'], lower=True)\n",
    "len(web2lowerset)"
   ]
  },
  {
   "cell_type": "code",
   "execution_count": 3,
   "metadata": {},
   "outputs": [],
   "source": [
    "# Filter for words containing e n t i r a\n",
    "corpus = list(web2lowerset)\n",
    "valid_letters = ['e', 'n', 't', 'i', 'r','a']\n",
    "dictionary = []\n",
    "for word in corpus:\n",
    "    flag = True\n",
    "    for letters in word:\n",
    "        if letters not in valid_letters:\n",
    "            flag = False\n",
    "            break\n",
    "    if flag:\n",
    "        dictionary.append(word)"
   ]
  },
  {
   "cell_type": "code",
   "execution_count": 4,
   "metadata": {},
   "outputs": [
    {
     "data": {
      "text/plain": [
       "409"
      ]
     },
     "execution_count": 4,
     "metadata": {},
     "output_type": "execute_result"
    }
   ],
   "source": [
    "X_for_train = []\n",
    "X_for_test = []\n",
    "for i in range(len(dictionary)):\n",
    "    if i%3 == 0:\n",
    "        X_for_test.append(dictionary[i])\n",
    "    else:\n",
    "        X_for_train.append(dictionary[i])\n",
    "\n",
    "len(X_for_train)"
   ]
  },
  {
   "cell_type": "code",
   "execution_count": 9,
   "metadata": {},
   "outputs": [
    {
     "data": {
      "text/plain": [
       "'tarrateen'"
      ]
     },
     "execution_count": 9,
     "metadata": {},
     "output_type": "execute_result"
    }
   ],
   "source": [
    "X_for_train[1]"
   ]
  },
  {
   "cell_type": "code",
   "execution_count": 8,
   "metadata": {},
   "outputs": [
    {
     "data": {
      "text/plain": [
       "[[2, 5],\n",
       " [2, 5, 1],\n",
       " [2, 5, 1, 3],\n",
       " [2, 5, 1, 3, 5],\n",
       " [2, 5, 1, 3, 5, 6],\n",
       " [2, 5, 1, 3, 5, 6, 4],\n",
       " [1, 2],\n",
       " [1, 2, 5],\n",
       " [1, 2, 5, 5],\n",
       " [1, 2, 5, 5, 2],\n",
       " [1, 2, 5, 5, 2, 1],\n",
       " [1, 2, 5, 5, 2, 1, 3],\n",
       " [1, 2, 5, 5, 2, 1, 3, 3],\n",
       " [1, 2, 5, 5, 2, 1, 3, 3, 4],\n",
       " [1, 3]]"
      ]
     },
     "execution_count": 8,
     "metadata": {},
     "output_type": "execute_result"
    }
   ],
   "source": [
    "tokenizer = Tokenizer(char_level=True)\n",
    "def get_sequence_of_tokens(corpus):\n",
    "    ## tokenization\n",
    "    tokenizer.fit_on_texts(corpus)\n",
    "    total_chars = len(tokenizer.word_index) + 1\n",
    "    \n",
    "    ## convert data to a token sequence \n",
    "    input_sequences = []\n",
    "    for word in corpus:\n",
    "        token_list = tokenizer.texts_to_sequences([word])[0]\n",
    "        for i in range(1, len(token_list)):\n",
    "            n_gram_sequence = token_list[:i+1]\n",
    "            input_sequences.append(n_gram_sequence)\n",
    "    return input_sequences, total_chars\n",
    "inp_sequences, total_chars = get_sequence_of_tokens(X_for_train)\n",
    "\n",
    "inp_sequences[:15]"
   ]
  },
  {
   "cell_type": "code",
   "execution_count": 10,
   "metadata": {},
   "outputs": [
    {
     "data": {
      "text/plain": [
       "array([[0, 0, 0, 0, 0, 0, 0, 0, 0, 2, 5],\n",
       "       [0, 0, 0, 0, 0, 0, 0, 0, 2, 5, 1],\n",
       "       [0, 0, 0, 0, 0, 0, 0, 2, 5, 1, 3],\n",
       "       [0, 0, 0, 0, 0, 0, 2, 5, 1, 3, 5],\n",
       "       [0, 0, 0, 0, 0, 2, 5, 1, 3, 5, 6],\n",
       "       [0, 0, 0, 0, 2, 5, 1, 3, 5, 6, 4],\n",
       "       [0, 0, 0, 0, 0, 0, 0, 0, 0, 1, 2],\n",
       "       [0, 0, 0, 0, 0, 0, 0, 0, 1, 2, 5],\n",
       "       [0, 0, 0, 0, 0, 0, 0, 1, 2, 5, 5],\n",
       "       [0, 0, 0, 0, 0, 0, 1, 2, 5, 5, 2]], dtype=int32)"
      ]
     },
     "execution_count": 10,
     "metadata": {},
     "output_type": "execute_result"
    }
   ],
   "source": [
    "max_sequence_length = max([len(seq) for seq in inp_sequences])\n",
    "padded_sequences = pad_sequences(inp_sequences, maxlen=max_sequence_length, padding='pre')\n",
    "\n",
    "padded_sequences[:10]"
   ]
  },
  {
   "cell_type": "code",
   "execution_count": 11,
   "metadata": {},
   "outputs": [],
   "source": [
    "X = padded_sequences[:, :-1]\n",
    "y = padded_sequences[:, -1]"
   ]
  },
  {
   "cell_type": "code",
   "execution_count": 12,
   "metadata": {},
   "outputs": [],
   "source": [
    "y = tf.keras.utils.to_categorical(y, num_classes=total_chars)"
   ]
  },
  {
   "cell_type": "code",
   "execution_count": 13,
   "metadata": {},
   "outputs": [
    {
     "name": "stderr",
     "output_type": "stream",
     "text": [
      "2024-01-28 14:29:28.132788: I metal_plugin/src/device/metal_device.cc:1154] Metal device set to: Apple M1\n",
      "2024-01-28 14:29:28.132825: I metal_plugin/src/device/metal_device.cc:296] systemMemory: 16.00 GB\n",
      "2024-01-28 14:29:28.132837: I metal_plugin/src/device/metal_device.cc:313] maxCacheSize: 5.33 GB\n",
      "2024-01-28 14:29:28.132895: I tensorflow/core/common_runtime/pluggable_device/pluggable_device_factory.cc:303] Could not identify NUMA node of platform GPU ID 0, defaulting to 0. Your kernel may not have been built with NUMA support.\n",
      "2024-01-28 14:29:28.132922: I tensorflow/core/common_runtime/pluggable_device/pluggable_device_factory.cc:269] Created TensorFlow device (/job:localhost/replica:0/task:0/device:GPU:0 with 0 MB memory) -> physical PluggableDevice (device: 0, name: METAL, pci bus id: <undefined>)\n"
     ]
    },
    {
     "name": "stdout",
     "output_type": "stream",
     "text": [
      "Model: \"sequential\"\n",
      "_________________________________________________________________\n",
      " Layer (type)                Output Shape              Param #   \n",
      "=================================================================\n",
      " embedding (Embedding)       (None, 10, 10)            70        \n",
      "                                                                 \n",
      " lstm (LSTM)                 (None, 100)               44400     \n",
      "                                                                 \n",
      " dropout (Dropout)           (None, 100)               0         \n",
      "                                                                 \n",
      " dense (Dense)               (None, 7)                 707       \n",
      "                                                                 \n",
      "=================================================================\n",
      "Total params: 45177 (176.47 KB)\n",
      "Trainable params: 45177 (176.47 KB)\n",
      "Non-trainable params: 0 (0.00 Byte)\n",
      "_________________________________________________________________\n"
     ]
    }
   ],
   "source": [
    "# Building the model\n",
    "model = Sequential()\n",
    "model.add(Embedding(total_chars, 10, input_length=max_sequence_length-1))\n",
    "model.add(LSTM(100))\n",
    "model.add(Dropout(0.1))\n",
    "model.add(Dense(total_chars, activation='softmax'))\n",
    "model.compile(loss='categorical_crossentropy', optimizer='adam')\n",
    "model.summary()"
   ]
  },
  {
   "cell_type": "code",
   "execution_count": 14,
   "metadata": {},
   "outputs": [
    {
     "name": "stdout",
     "output_type": "stream",
     "text": [
      "Epoch 1/100\n"
     ]
    },
    {
     "name": "stderr",
     "output_type": "stream",
     "text": [
      "2024-01-28 14:31:05.916144: I tensorflow/core/grappler/optimizers/custom_graph_optimizer_registry.cc:114] Plugin optimizer for device_type GPU is enabled.\n",
      "2024-01-28 14:31:06.289191: I tensorflow/core/grappler/optimizers/custom_graph_optimizer_registry.cc:114] Plugin optimizer for device_type GPU is enabled.\n",
      "2024-01-28 14:31:08.640782: I tensorflow/core/grappler/optimizers/custom_graph_optimizer_registry.cc:114] Plugin optimizer for device_type GPU is enabled.\n"
     ]
    },
    {
     "name": "stdout",
     "output_type": "stream",
     "text": [
      "60/60 - 7s - loss: 1.8380 - 7s/epoch - 111ms/step\n",
      "Epoch 2/100\n",
      "60/60 - 1s - loss: 1.7694 - 914ms/epoch - 15ms/step\n",
      "Epoch 3/100\n",
      "60/60 - 1s - loss: 1.6775 - 900ms/epoch - 15ms/step\n",
      "Epoch 4/100\n",
      "60/60 - 1s - loss: 1.5882 - 858ms/epoch - 14ms/step\n",
      "Epoch 5/100\n",
      "60/60 - 1s - loss: 1.5566 - 859ms/epoch - 14ms/step\n",
      "Epoch 6/100\n",
      "60/60 - 1s - loss: 1.5439 - 859ms/epoch - 14ms/step\n",
      "Epoch 7/100\n",
      "60/60 - 1s - loss: 1.5279 - 860ms/epoch - 14ms/step\n",
      "Epoch 8/100\n",
      "60/60 - 1s - loss: 1.5078 - 859ms/epoch - 14ms/step\n",
      "Epoch 9/100\n",
      "60/60 - 1s - loss: 1.5003 - 856ms/epoch - 14ms/step\n",
      "Epoch 10/100\n",
      "60/60 - 1s - loss: 1.4857 - 851ms/epoch - 14ms/step\n",
      "Epoch 11/100\n",
      "60/60 - 1s - loss: 1.4730 - 858ms/epoch - 14ms/step\n",
      "Epoch 12/100\n",
      "60/60 - 1s - loss: 1.4649 - 884ms/epoch - 15ms/step\n",
      "Epoch 13/100\n",
      "60/60 - 1s - loss: 1.4590 - 909ms/epoch - 15ms/step\n",
      "Epoch 14/100\n",
      "60/60 - 1s - loss: 1.4573 - 915ms/epoch - 15ms/step\n",
      "Epoch 15/100\n",
      "60/60 - 1s - loss: 1.4510 - 851ms/epoch - 14ms/step\n",
      "Epoch 16/100\n",
      "60/60 - 1s - loss: 1.4349 - 845ms/epoch - 14ms/step\n",
      "Epoch 17/100\n",
      "60/60 - 1s - loss: 1.4285 - 844ms/epoch - 14ms/step\n",
      "Epoch 18/100\n",
      "60/60 - 1s - loss: 1.4196 - 855ms/epoch - 14ms/step\n",
      "Epoch 19/100\n",
      "60/60 - 1s - loss: 1.4144 - 929ms/epoch - 15ms/step\n",
      "Epoch 20/100\n",
      "60/60 - 1s - loss: 1.4070 - 861ms/epoch - 14ms/step\n",
      "Epoch 21/100\n",
      "60/60 - 1s - loss: 1.4074 - 844ms/epoch - 14ms/step\n",
      "Epoch 22/100\n",
      "60/60 - 1s - loss: 1.3961 - 843ms/epoch - 14ms/step\n",
      "Epoch 23/100\n",
      "60/60 - 1s - loss: 1.3919 - 898ms/epoch - 15ms/step\n",
      "Epoch 24/100\n",
      "60/60 - 1s - loss: 1.3822 - 882ms/epoch - 15ms/step\n",
      "Epoch 25/100\n",
      "60/60 - 1s - loss: 1.3760 - 869ms/epoch - 14ms/step\n",
      "Epoch 26/100\n",
      "60/60 - 1s - loss: 1.3725 - 851ms/epoch - 14ms/step\n",
      "Epoch 27/100\n",
      "60/60 - 1s - loss: 1.3710 - 851ms/epoch - 14ms/step\n",
      "Epoch 28/100\n",
      "60/60 - 1s - loss: 1.3592 - 865ms/epoch - 14ms/step\n",
      "Epoch 29/100\n",
      "60/60 - 1s - loss: 1.3500 - 873ms/epoch - 15ms/step\n",
      "Epoch 30/100\n",
      "60/60 - 1s - loss: 1.3452 - 849ms/epoch - 14ms/step\n",
      "Epoch 31/100\n",
      "60/60 - 1s - loss: 1.3378 - 850ms/epoch - 14ms/step\n",
      "Epoch 32/100\n",
      "60/60 - 1s - loss: 1.3363 - 895ms/epoch - 15ms/step\n",
      "Epoch 33/100\n",
      "60/60 - 1s - loss: 1.3256 - 889ms/epoch - 15ms/step\n",
      "Epoch 34/100\n",
      "60/60 - 1s - loss: 1.3205 - 865ms/epoch - 14ms/step\n",
      "Epoch 35/100\n",
      "60/60 - 1s - loss: 1.3166 - 860ms/epoch - 14ms/step\n",
      "Epoch 36/100\n",
      "60/60 - 1s - loss: 1.3085 - 858ms/epoch - 14ms/step\n",
      "Epoch 37/100\n",
      "60/60 - 1s - loss: 1.3030 - 875ms/epoch - 15ms/step\n",
      "Epoch 38/100\n",
      "60/60 - 1s - loss: 1.2937 - 858ms/epoch - 14ms/step\n",
      "Epoch 39/100\n",
      "60/60 - 1s - loss: 1.2802 - 848ms/epoch - 14ms/step\n",
      "Epoch 40/100\n",
      "60/60 - 1s - loss: 1.2752 - 867ms/epoch - 14ms/step\n",
      "Epoch 41/100\n",
      "60/60 - 1s - loss: 1.2625 - 865ms/epoch - 14ms/step\n",
      "Epoch 42/100\n",
      "60/60 - 1s - loss: 1.2593 - 875ms/epoch - 15ms/step\n",
      "Epoch 43/100\n",
      "60/60 - 1s - loss: 1.2511 - 844ms/epoch - 14ms/step\n",
      "Epoch 44/100\n",
      "60/60 - 1s - loss: 1.2380 - 842ms/epoch - 14ms/step\n",
      "Epoch 45/100\n",
      "60/60 - 1s - loss: 1.2336 - 865ms/epoch - 14ms/step\n",
      "Epoch 46/100\n",
      "60/60 - 1s - loss: 1.2238 - 893ms/epoch - 15ms/step\n",
      "Epoch 47/100\n",
      "60/60 - 1s - loss: 1.2213 - 843ms/epoch - 14ms/step\n",
      "Epoch 48/100\n",
      "60/60 - 1s - loss: 1.2024 - 846ms/epoch - 14ms/step\n",
      "Epoch 49/100\n",
      "60/60 - 1s - loss: 1.1860 - 839ms/epoch - 14ms/step\n",
      "Epoch 50/100\n",
      "60/60 - 1s - loss: 1.1778 - 839ms/epoch - 14ms/step\n",
      "Epoch 51/100\n",
      "60/60 - 1s - loss: 1.1789 - 840ms/epoch - 14ms/step\n",
      "Epoch 52/100\n",
      "60/60 - 1s - loss: 1.1672 - 839ms/epoch - 14ms/step\n",
      "Epoch 53/100\n",
      "60/60 - 1s - loss: 1.1570 - 838ms/epoch - 14ms/step\n",
      "Epoch 54/100\n",
      "60/60 - 1s - loss: 1.1453 - 839ms/epoch - 14ms/step\n",
      "Epoch 55/100\n",
      "60/60 - 1s - loss: 1.1366 - 839ms/epoch - 14ms/step\n",
      "Epoch 56/100\n",
      "60/60 - 1s - loss: 1.1247 - 840ms/epoch - 14ms/step\n",
      "Epoch 57/100\n",
      "60/60 - 1s - loss: 1.1153 - 841ms/epoch - 14ms/step\n",
      "Epoch 58/100\n",
      "60/60 - 1s - loss: 1.1142 - 838ms/epoch - 14ms/step\n",
      "Epoch 59/100\n",
      "60/60 - 1s - loss: 1.0983 - 839ms/epoch - 14ms/step\n",
      "Epoch 60/100\n",
      "60/60 - 1s - loss: 1.0935 - 838ms/epoch - 14ms/step\n",
      "Epoch 61/100\n",
      "60/60 - 1s - loss: 1.0893 - 837ms/epoch - 14ms/step\n",
      "Epoch 62/100\n",
      "60/60 - 1s - loss: 1.0801 - 857ms/epoch - 14ms/step\n",
      "Epoch 63/100\n",
      "60/60 - 1s - loss: 1.0737 - 841ms/epoch - 14ms/step\n",
      "Epoch 64/100\n",
      "60/60 - 1s - loss: 1.0626 - 838ms/epoch - 14ms/step\n",
      "Epoch 65/100\n",
      "60/60 - 1s - loss: 1.0555 - 835ms/epoch - 14ms/step\n",
      "Epoch 66/100\n",
      "60/60 - 1s - loss: 1.0494 - 837ms/epoch - 14ms/step\n",
      "Epoch 67/100\n",
      "60/60 - 1s - loss: 1.0427 - 836ms/epoch - 14ms/step\n",
      "Epoch 68/100\n",
      "60/60 - 1s - loss: 1.0312 - 838ms/epoch - 14ms/step\n",
      "Epoch 69/100\n",
      "60/60 - 1s - loss: 1.0384 - 838ms/epoch - 14ms/step\n",
      "Epoch 70/100\n",
      "60/60 - 1s - loss: 1.0265 - 836ms/epoch - 14ms/step\n",
      "Epoch 71/100\n",
      "60/60 - 1s - loss: 1.0196 - 837ms/epoch - 14ms/step\n",
      "Epoch 72/100\n",
      "60/60 - 1s - loss: 1.0213 - 837ms/epoch - 14ms/step\n",
      "Epoch 73/100\n",
      "60/60 - 1s - loss: 1.0089 - 838ms/epoch - 14ms/step\n",
      "Epoch 74/100\n",
      "60/60 - 1s - loss: 1.0101 - 838ms/epoch - 14ms/step\n",
      "Epoch 75/100\n",
      "60/60 - 1s - loss: 0.9949 - 837ms/epoch - 14ms/step\n",
      "Epoch 76/100\n",
      "60/60 - 1s - loss: 0.9928 - 838ms/epoch - 14ms/step\n",
      "Epoch 77/100\n",
      "60/60 - 1s - loss: 0.9856 - 838ms/epoch - 14ms/step\n",
      "Epoch 78/100\n",
      "60/60 - 1s - loss: 0.9875 - 837ms/epoch - 14ms/step\n",
      "Epoch 79/100\n",
      "60/60 - 1s - loss: 0.9874 - 838ms/epoch - 14ms/step\n",
      "Epoch 80/100\n",
      "60/60 - 1s - loss: 0.9900 - 837ms/epoch - 14ms/step\n",
      "Epoch 81/100\n",
      "60/60 - 1s - loss: 0.9764 - 837ms/epoch - 14ms/step\n",
      "Epoch 82/100\n",
      "60/60 - 1s - loss: 0.9757 - 838ms/epoch - 14ms/step\n",
      "Epoch 83/100\n",
      "60/60 - 1s - loss: 0.9676 - 838ms/epoch - 14ms/step\n",
      "Epoch 84/100\n",
      "60/60 - 1s - loss: 0.9658 - 839ms/epoch - 14ms/step\n",
      "Epoch 85/100\n",
      "60/60 - 1s - loss: 0.9653 - 836ms/epoch - 14ms/step\n",
      "Epoch 86/100\n",
      "60/60 - 1s - loss: 0.9656 - 837ms/epoch - 14ms/step\n",
      "Epoch 87/100\n",
      "60/60 - 1s - loss: 0.9611 - 838ms/epoch - 14ms/step\n",
      "Epoch 88/100\n",
      "60/60 - 1s - loss: 0.9561 - 852ms/epoch - 14ms/step\n",
      "Epoch 89/100\n",
      "60/60 - 1s - loss: 0.9477 - 853ms/epoch - 14ms/step\n",
      "Epoch 90/100\n",
      "60/60 - 1s - loss: 0.9486 - 854ms/epoch - 14ms/step\n",
      "Epoch 91/100\n",
      "60/60 - 1s - loss: 0.9410 - 854ms/epoch - 14ms/step\n",
      "Epoch 92/100\n",
      "60/60 - 1s - loss: 0.9438 - 856ms/epoch - 14ms/step\n",
      "Epoch 93/100\n",
      "60/60 - 1s - loss: 0.9390 - 855ms/epoch - 14ms/step\n",
      "Epoch 94/100\n",
      "60/60 - 1s - loss: 0.9455 - 855ms/epoch - 14ms/step\n",
      "Epoch 95/100\n",
      "60/60 - 1s - loss: 0.9314 - 857ms/epoch - 14ms/step\n",
      "Epoch 96/100\n",
      "60/60 - 1s - loss: 0.9355 - 852ms/epoch - 14ms/step\n",
      "Epoch 97/100\n",
      "60/60 - 1s - loss: 0.9356 - 859ms/epoch - 14ms/step\n",
      "Epoch 98/100\n",
      "60/60 - 1s - loss: 0.9286 - 872ms/epoch - 15ms/step\n",
      "Epoch 99/100\n",
      "60/60 - 1s - loss: 0.9345 - 856ms/epoch - 14ms/step\n",
      "Epoch 100/100\n",
      "60/60 - 1s - loss: 0.9310 - 855ms/epoch - 14ms/step\n"
     ]
    },
    {
     "data": {
      "text/plain": [
       "<keras.src.callbacks.History at 0x283e7e950>"
      ]
     },
     "execution_count": 14,
     "metadata": {},
     "output_type": "execute_result"
    }
   ],
   "source": [
    "model.fit(X, y, epochs=100, verbose=2)"
   ]
  },
  {
   "cell_type": "code",
   "execution_count": 18,
   "metadata": {},
   "outputs": [],
   "source": [
    "def get_index(array):\n",
    "    maxi = max(array)\n",
    "    for i in range(len(array)):\n",
    "        if array[i] == maxi:\n",
    "            return i\n",
    "    \n",
    "\n",
    "def generate_word(seed_text, next_words, model, max_sequence_length):\n",
    "    ans = []\n",
    "    for _ in range(next_words):\n",
    "        token_list = tokenizer.texts_to_sequences([seed_text])[0]\n",
    "        token_list = pad_sequences([token_list], maxlen=max_sequence_length-1, padding='pre')\n",
    "        predicted_probabilities = model.predict(token_list, verbose=0)\n",
    "        predicted_probabilities = predicted_probabilities[0] #to convert it into a 1D list\n",
    "        predicted = get_index(predicted_probabilities)\n",
    "        output_word = \"\"\n",
    "        for word, index in tokenizer.word_index.items():\n",
    "            if index == predicted:\n",
    "                output_word = word\n",
    "                break\n",
    "        seed_text += output_word\n",
    "        ans.append(seed_text)\n",
    "    return ans\n",
    "\n",
    "\n"
   ]
  },
  {
   "cell_type": "code",
   "execution_count": 20,
   "metadata": {},
   "outputs": [
    {
     "name": "stdout",
     "output_type": "stream",
     "text": [
      "4 words starting with ent is \n",
      "['ente', 'enter', 'entert', 'enterta']\n"
     ]
    }
   ],
   "source": [
    "print(\"4 words starting with ent is \")\n",
    "gen_words = generate_word(\"ent\", 4, model, max_sequence_length)\n",
    "print(gen_words)"
   ]
  },
  {
   "cell_type": "code",
   "execution_count": 21,
   "metadata": {},
   "outputs": [
    {
     "data": {
      "text/plain": [
       "['rat',\n",
       " 'arterin',\n",
       " 'tarrateen',\n",
       " 'rantan',\n",
       " 'teat',\n",
       " 'tete',\n",
       " 'renet',\n",
       " 'nitrate',\n",
       " 'enter',\n",
       " 'terna']"
      ]
     },
     "execution_count": 21,
     "metadata": {},
     "output_type": "execute_result"
    }
   ],
   "source": [
    "dictionary[:10]"
   ]
  },
  {
   "cell_type": "code",
   "execution_count": 30,
   "metadata": {},
   "outputs": [],
   "source": [
    "import random\n",
    "\n",
    "new_dictionary = []\n",
    "\n",
    "for word in dictionary:\n",
    "    if len(word) > 3:\n",
    "        num = random.randint(1,len(word) - 3)\n",
    "        new_word = word[:-num]\n",
    "        new_dictionary.append(new_word)\n",
    "    else:\n",
    "         new_dictionary.append(word)\n",
    "\n"
   ]
  },
  {
   "cell_type": "code",
   "execution_count": 31,
   "metadata": {},
   "outputs": [
    {
     "data": {
      "text/plain": [
       "['rat', 'arteri', 'tarrat', 'ran', 'tea', 'tet', 'ren', 'nitr', 'ent', 'ter']"
      ]
     },
     "execution_count": 31,
     "metadata": {},
     "output_type": "execute_result"
    }
   ],
   "source": [
    "new_dictionary[:10]"
   ]
  },
  {
   "cell_type": "code",
   "execution_count": 32,
   "metadata": {},
   "outputs": [
    {
     "name": "stderr",
     "output_type": "stream",
     "text": [
      "100%|██████████| 614/614 [01:08<00:00,  9.02it/s]\n"
     ]
    }
   ],
   "source": [
    "from tqdm import tqdm\n",
    "\n",
    "whole_corpus = []\n",
    "for i in tqdm(range(len(new_dictionary))):\n",
    "    answer = generate_word(new_dictionary[i], 4, model, max_sequence_length)\n",
    "    whole_corpus.append(answer)\n",
    "\n"
   ]
  },
  {
   "cell_type": "code",
   "execution_count": 33,
   "metadata": {},
   "outputs": [
    {
     "data": {
      "text/plain": [
       "[['ratt', 'ratte', 'rattee', 'ratteen'],\n",
       " ['arterin', 'arterine', 'arteriner', 'arterinera'],\n",
       " ['tarrate', 'tarratee', 'tarrateen', 'tarrateene'],\n",
       " ['rani', 'ranin', 'ranina', 'raninae'],\n",
       " ['tear', 'teare', 'tearer', 'teareri'],\n",
       " ['tetr', 'tetra', 'tetran', 'tetrane'],\n",
       " ['renn', 'renne', 'rennet', 'rennete'],\n",
       " ['nitra', 'nitrat', 'nitrate', 'nitrater'],\n",
       " ['ente', 'enter', 'entert', 'enterta'],\n",
       " ['tert', 'terti', 'tertia', 'tertian']]"
      ]
     },
     "execution_count": 33,
     "metadata": {},
     "output_type": "execute_result"
    }
   ],
   "source": [
    "whole_corpus[:10]"
   ]
  },
  {
   "cell_type": "code",
   "execution_count": 34,
   "metadata": {},
   "outputs": [],
   "source": [
    "generated_words_phonetic = []\n",
    "\n",
    "for list_ele in whole_corpus:\n",
    "    for word in list_ele:\n",
    "        generated_words_phonetic.append(word)\n"
   ]
  },
  {
   "cell_type": "code",
   "execution_count": 35,
   "metadata": {},
   "outputs": [
    {
     "data": {
      "text/plain": [
       "['ratt',\n",
       " 'ratte',\n",
       " 'rattee',\n",
       " 'ratteen',\n",
       " 'arterin',\n",
       " 'arterine',\n",
       " 'arteriner',\n",
       " 'arterinera',\n",
       " 'tarrate',\n",
       " 'tarratee']"
      ]
     },
     "execution_count": 35,
     "metadata": {},
     "output_type": "execute_result"
    }
   ],
   "source": [
    "generated_words_phonetic[:10]"
   ]
  },
  {
   "cell_type": "code",
   "execution_count": 36,
   "metadata": {},
   "outputs": [
    {
     "data": {
      "text/plain": [
       "2456"
      ]
     },
     "execution_count": 36,
     "metadata": {},
     "output_type": "execute_result"
    }
   ],
   "source": [
    "len(generated_words_phonetic)"
   ]
  },
  {
   "cell_type": "code",
   "execution_count": 37,
   "metadata": {},
   "outputs": [],
   "source": [
    "with open(\"generated_words.txt\", \"w+\") as fd:\n",
    "    for items in generated_words_phonetic:\n",
    "        fd.write(\"%s\\n\" %items)\n",
    "\n",
    "fd.close()"
   ]
  }
 ],
 "metadata": {
  "kernelspec": {
   "display_name": "base",
   "language": "python",
   "name": "python3"
  },
  "language_info": {
   "codemirror_mode": {
    "name": "ipython",
    "version": 3
   },
   "file_extension": ".py",
   "mimetype": "text/x-python",
   "name": "python",
   "nbconvert_exporter": "python",
   "pygments_lexer": "ipython3",
   "version": "3.10.9"
  }
 },
 "nbformat": 4,
 "nbformat_minor": 2
}
